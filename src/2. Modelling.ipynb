{
 "cells": [
  {
   "cell_type": "markdown",
   "id": "trained-thumbnail",
   "metadata": {},
   "source": [
    "##  Libraries"
   ]
  },
  {
   "cell_type": "code",
   "execution_count": 2,
   "id": "united-barrel",
   "metadata": {},
   "outputs": [],
   "source": [
    "import sys\n",
    "sys.path.append('../')\n",
    "\n",
    "\n",
    "\n",
    "import numpy as np\n",
    "import pandas as pd\n",
    "import matplotlib.pyplot as plt\n",
    "import seaborn as sns\n",
    "import re\n",
    "from sklearn.model_selection import train_test_split\n",
    "from sklearn.linear_model import LinearRegression\n",
    "from sklearn.tree import DecisionTreeRegressor\n",
    "from sklearn.tree import plot_tree\n",
    "from sklearn.neighbors import KNeighborsRegressor\n",
    "from sklearn.model_selection import GridSearchCV\n",
    "from sklearn.ensemble import RandomForestRegressor\n",
    "from sklearn.ensemble import GradientBoostingRegressor\n",
    "from sklearn.model_selection import cross_val_score\n",
    "from sklearn.metrics import mean_squared_log_error, mean_squared_error, r2_score, mean_absolute_error\n",
    "import math\n",
    "from sklearn.model_selection import cross_val_score\n",
    "\n",
    "from sklearn.model_selection import cross_validate\n",
    "from sklearn.metrics import make_scorer\n",
    "from sklearn.pipeline import Pipeline"
   ]
  },
  {
   "cell_type": "markdown",
   "id": "suburban-humidity",
   "metadata": {},
   "source": [
    "##  Load data"
   ]
  },
  {
   "cell_type": "code",
   "execution_count": 28,
   "id": "provincial-cache",
   "metadata": {},
   "outputs": [],
   "source": [
    "df_train = pd.read_csv(\"Input/clean_train.csv\")\n",
    "df_test = pd.read_csv(\"Input/clean_test.csv\")"
   ]
  },
  {
   "cell_type": "code",
   "execution_count": 29,
   "id": "ordinary-fighter",
   "metadata": {},
   "outputs": [
    {
     "data": {
      "text/html": [
       "<div>\n",
       "<style scoped>\n",
       "    .dataframe tbody tr th:only-of-type {\n",
       "        vertical-align: middle;\n",
       "    }\n",
       "\n",
       "    .dataframe tbody tr th {\n",
       "        vertical-align: top;\n",
       "    }\n",
       "\n",
       "    .dataframe thead th {\n",
       "        text-align: right;\n",
       "    }\n",
       "</style>\n",
       "<table border=\"1\" class=\"dataframe\">\n",
       "  <thead>\n",
       "    <tr style=\"text-align: right;\">\n",
       "      <th></th>\n",
       "      <th>carat</th>\n",
       "      <th>cut</th>\n",
       "      <th>color</th>\n",
       "      <th>clarity</th>\n",
       "      <th>x</th>\n",
       "      <th>y</th>\n",
       "      <th>z</th>\n",
       "      <th>price</th>\n",
       "      <th>cut/wt</th>\n",
       "      <th>color/wt</th>\n",
       "      <th>clarity/wt</th>\n",
       "    </tr>\n",
       "  </thead>\n",
       "  <tbody>\n",
       "    <tr>\n",
       "      <th>0</th>\n",
       "      <td>1.50</td>\n",
       "      <td>4</td>\n",
       "      <td>3</td>\n",
       "      <td>4</td>\n",
       "      <td>7.32</td>\n",
       "      <td>7.34</td>\n",
       "      <td>4.51</td>\n",
       "      <td>9.588</td>\n",
       "      <td>2.666667</td>\n",
       "      <td>2.000000</td>\n",
       "      <td>2.666667</td>\n",
       "    </tr>\n",
       "    <tr>\n",
       "      <th>1</th>\n",
       "      <td>2.01</td>\n",
       "      <td>6</td>\n",
       "      <td>1</td>\n",
       "      <td>2</td>\n",
       "      <td>8.11</td>\n",
       "      <td>8.25</td>\n",
       "      <td>4.96</td>\n",
       "      <td>9.748</td>\n",
       "      <td>2.985075</td>\n",
       "      <td>0.497512</td>\n",
       "      <td>0.995025</td>\n",
       "    </tr>\n",
       "    <tr>\n",
       "      <th>2</th>\n",
       "      <td>0.50</td>\n",
       "      <td>3</td>\n",
       "      <td>1</td>\n",
       "      <td>3</td>\n",
       "      <td>5.13</td>\n",
       "      <td>5.09</td>\n",
       "      <td>3.15</td>\n",
       "      <td>7.255</td>\n",
       "      <td>6.000000</td>\n",
       "      <td>2.000000</td>\n",
       "      <td>6.000000</td>\n",
       "    </tr>\n",
       "    <tr>\n",
       "      <th>3</th>\n",
       "      <td>0.25</td>\n",
       "      <td>6</td>\n",
       "      <td>3</td>\n",
       "      <td>6</td>\n",
       "      <td>4.05</td>\n",
       "      <td>4.08</td>\n",
       "      <td>2.50</td>\n",
       "      <td>6.450</td>\n",
       "      <td>24.000000</td>\n",
       "      <td>12.000000</td>\n",
       "      <td>24.000000</td>\n",
       "    </tr>\n",
       "    <tr>\n",
       "      <th>4</th>\n",
       "      <td>0.52</td>\n",
       "      <td>3</td>\n",
       "      <td>4</td>\n",
       "      <td>4</td>\n",
       "      <td>5.16</td>\n",
       "      <td>5.19</td>\n",
       "      <td>3.21</td>\n",
       "      <td>7.721</td>\n",
       "      <td>5.769231</td>\n",
       "      <td>7.692308</td>\n",
       "      <td>7.692308</td>\n",
       "    </tr>\n",
       "    <tr>\n",
       "      <th>...</th>\n",
       "      <td>...</td>\n",
       "      <td>...</td>\n",
       "      <td>...</td>\n",
       "      <td>...</td>\n",
       "      <td>...</td>\n",
       "      <td>...</td>\n",
       "      <td>...</td>\n",
       "      <td>...</td>\n",
       "      <td>...</td>\n",
       "      <td>...</td>\n",
       "      <td>...</td>\n",
       "    </tr>\n",
       "    <tr>\n",
       "      <th>40450</th>\n",
       "      <td>1.04</td>\n",
       "      <td>6</td>\n",
       "      <td>6</td>\n",
       "      <td>2</td>\n",
       "      <td>6.60</td>\n",
       "      <td>6.62</td>\n",
       "      <td>3.94</td>\n",
       "      <td>8.190</td>\n",
       "      <td>5.769231</td>\n",
       "      <td>5.769231</td>\n",
       "      <td>1.923077</td>\n",
       "    </tr>\n",
       "    <tr>\n",
       "      <th>40451</th>\n",
       "      <td>0.51</td>\n",
       "      <td>6</td>\n",
       "      <td>1</td>\n",
       "      <td>3</td>\n",
       "      <td>5.09</td>\n",
       "      <td>5.05</td>\n",
       "      <td>3.21</td>\n",
       "      <td>7.246</td>\n",
       "      <td>11.764706</td>\n",
       "      <td>1.960784</td>\n",
       "      <td>5.882353</td>\n",
       "    </tr>\n",
       "    <tr>\n",
       "      <th>40452</th>\n",
       "      <td>1.51</td>\n",
       "      <td>3</td>\n",
       "      <td>5</td>\n",
       "      <td>4</td>\n",
       "      <td>7.37</td>\n",
       "      <td>7.33</td>\n",
       "      <td>4.60</td>\n",
       "      <td>9.277</td>\n",
       "      <td>1.986755</td>\n",
       "      <td>3.311258</td>\n",
       "      <td>2.649007</td>\n",
       "    </tr>\n",
       "    <tr>\n",
       "      <th>40453</th>\n",
       "      <td>2.02</td>\n",
       "      <td>4</td>\n",
       "      <td>5</td>\n",
       "      <td>4</td>\n",
       "      <td>8.16</td>\n",
       "      <td>8.11</td>\n",
       "      <td>4.99</td>\n",
       "      <td>9.680</td>\n",
       "      <td>1.980198</td>\n",
       "      <td>2.475248</td>\n",
       "      <td>1.980198</td>\n",
       "    </tr>\n",
       "    <tr>\n",
       "      <th>40454</th>\n",
       "      <td>0.50</td>\n",
       "      <td>1</td>\n",
       "      <td>3</td>\n",
       "      <td>4</td>\n",
       "      <td>5.31</td>\n",
       "      <td>5.27</td>\n",
       "      <td>2.95</td>\n",
       "      <td>7.154</td>\n",
       "      <td>2.000000</td>\n",
       "      <td>6.000000</td>\n",
       "      <td>8.000000</td>\n",
       "    </tr>\n",
       "  </tbody>\n",
       "</table>\n",
       "<p>40455 rows × 11 columns</p>\n",
       "</div>"
      ],
      "text/plain": [
       "       carat  cut  color  clarity     x     y     z  price     cut/wt  \\\n",
       "0       1.50    4      3        4  7.32  7.34  4.51  9.588   2.666667   \n",
       "1       2.01    6      1        2  8.11  8.25  4.96  9.748   2.985075   \n",
       "2       0.50    3      1        3  5.13  5.09  3.15  7.255   6.000000   \n",
       "3       0.25    6      3        6  4.05  4.08  2.50  6.450  24.000000   \n",
       "4       0.52    3      4        4  5.16  5.19  3.21  7.721   5.769231   \n",
       "...      ...  ...    ...      ...   ...   ...   ...    ...        ...   \n",
       "40450   1.04    6      6        2  6.60  6.62  3.94  8.190   5.769231   \n",
       "40451   0.51    6      1        3  5.09  5.05  3.21  7.246  11.764706   \n",
       "40452   1.51    3      5        4  7.37  7.33  4.60  9.277   1.986755   \n",
       "40453   2.02    4      5        4  8.16  8.11  4.99  9.680   1.980198   \n",
       "40454   0.50    1      3        4  5.31  5.27  2.95  7.154   2.000000   \n",
       "\n",
       "        color/wt  clarity/wt  \n",
       "0       2.000000    2.666667  \n",
       "1       0.497512    0.995025  \n",
       "2       2.000000    6.000000  \n",
       "3      12.000000   24.000000  \n",
       "4       7.692308    7.692308  \n",
       "...          ...         ...  \n",
       "40450   5.769231    1.923077  \n",
       "40451   1.960784    5.882353  \n",
       "40452   3.311258    2.649007  \n",
       "40453   2.475248    1.980198  \n",
       "40454   6.000000    8.000000  \n",
       "\n",
       "[40455 rows x 11 columns]"
      ]
     },
     "execution_count": 29,
     "metadata": {},
     "output_type": "execute_result"
    }
   ],
   "source": [
    "df_train"
   ]
  },
  {
   "cell_type": "code",
   "execution_count": 30,
   "id": "inside-celebration",
   "metadata": {},
   "outputs": [],
   "source": [
    "y = df_train[\"price\"]\n",
    "X = df_train.drop(columns=[\"price\"])"
   ]
  },
  {
   "cell_type": "code",
   "execution_count": 31,
   "id": "beneficial-court",
   "metadata": {},
   "outputs": [],
   "source": [
    "X_test = df_test"
   ]
  },
  {
   "cell_type": "markdown",
   "id": "given-experience",
   "metadata": {},
   "source": [
    "## Many estimators"
   ]
  },
  {
   "cell_type": "code",
   "execution_count": 32,
   "id": "sixth-retreat",
   "metadata": {},
   "outputs": [],
   "source": [
    "pipe = Pipeline(steps=[('estimator', LinearRegression())])"
   ]
  },
  {
   "cell_type": "code",
   "execution_count": 33,
   "id": "educated-burden",
   "metadata": {},
   "outputs": [],
   "source": [
    "# Add a dict of estimator and estimator related parameters in this list\n",
    "params_grid = [{\n",
    "                'estimator':[LinearRegression()],\n",
    "                },\n",
    "                {\n",
    "                'estimator': [DecisionTreeRegressor()],\n",
    "                'estimator__max_depth': [1, 2,3, None],\n",
    "                'estimator__max_features': [\"sqrt\", \"log2\"],\n",
    "                },\n",
    "                {'estimator':[RandomForestRegressor()],\n",
    "                 'estimator__n_estimators':[50,100,200,300],\n",
    "                 'estimator__max_depth':[1, 2,3, None], \n",
    "                 'estimator__min_samples_split':[2,3], \n",
    "                 'estimator__min_samples_leaf':[1,2,3],\n",
    "                },\n",
    "                {'estimator':[KNeighborsRegressor()],\n",
    "                 'estimator__n_neighbors':[3,5],\n",
    "                }\n",
    "\n",
    "              ]"
   ]
  },
  {
   "cell_type": "code",
   "execution_count": 35,
   "id": "absent-witch",
   "metadata": {},
   "outputs": [],
   "source": [
    "grid = GridSearchCV(pipe, params_grid, n_jobs= -1, verbose = 2)"
   ]
  },
  {
   "cell_type": "code",
   "execution_count": 36,
   "id": "essential-morocco",
   "metadata": {},
   "outputs": [
    {
     "name": "stdout",
     "output_type": "stream",
     "text": [
      "Fitting 5 folds for each of 107 candidates, totalling 535 fits\n",
      "CPU times: user 42.8 s, sys: 2.55 s, total: 45.4 s\n",
      "Wall time: 17min 46s\n"
     ]
    }
   ],
   "source": [
    "%%time\n",
    "res = grid.fit(X, y)"
   ]
  },
  {
   "cell_type": "code",
   "execution_count": 37,
   "id": "regulated-wheel",
   "metadata": {},
   "outputs": [
    {
     "data": {
      "text/plain": [
       "{'estimator': RandomForestRegressor(min_samples_leaf=2, min_samples_split=3, n_estimators=300),\n",
       " 'estimator__max_depth': None,\n",
       " 'estimator__min_samples_leaf': 2,\n",
       " 'estimator__min_samples_split': 3,\n",
       " 'estimator__n_estimators': 300}"
      ]
     },
     "execution_count": 37,
     "metadata": {},
     "output_type": "execute_result"
    }
   ],
   "source": [
    "grid.best_params_"
   ]
  },
  {
   "cell_type": "code",
   "execution_count": 38,
   "id": "statewide-equipment",
   "metadata": {},
   "outputs": [
    {
     "data": {
      "text/html": [
       "<div>\n",
       "<style scoped>\n",
       "    .dataframe tbody tr th:only-of-type {\n",
       "        vertical-align: middle;\n",
       "    }\n",
       "\n",
       "    .dataframe tbody tr th {\n",
       "        vertical-align: top;\n",
       "    }\n",
       "\n",
       "    .dataframe thead th {\n",
       "        text-align: right;\n",
       "    }\n",
       "</style>\n",
       "<table border=\"1\" class=\"dataframe\">\n",
       "  <thead>\n",
       "    <tr style=\"text-align: right;\">\n",
       "      <th></th>\n",
       "      <th>mean_fit_time</th>\n",
       "      <th>std_fit_time</th>\n",
       "      <th>mean_score_time</th>\n",
       "      <th>std_score_time</th>\n",
       "      <th>param_estimator</th>\n",
       "      <th>param_estimator__max_depth</th>\n",
       "      <th>param_estimator__max_features</th>\n",
       "      <th>param_estimator__min_samples_leaf</th>\n",
       "      <th>param_estimator__min_samples_split</th>\n",
       "      <th>param_estimator__n_estimators</th>\n",
       "      <th>param_estimator__n_neighbors</th>\n",
       "      <th>params</th>\n",
       "      <th>split0_test_score</th>\n",
       "      <th>split1_test_score</th>\n",
       "      <th>split2_test_score</th>\n",
       "      <th>split3_test_score</th>\n",
       "      <th>split4_test_score</th>\n",
       "      <th>mean_test_score</th>\n",
       "      <th>std_test_score</th>\n",
       "      <th>rank_test_score</th>\n",
       "    </tr>\n",
       "  </thead>\n",
       "  <tbody>\n",
       "    <tr>\n",
       "      <th>0</th>\n",
       "      <td>0.058584</td>\n",
       "      <td>0.014798</td>\n",
       "      <td>0.009811</td>\n",
       "      <td>0.005125</td>\n",
       "      <td>LinearRegression()</td>\n",
       "      <td>NaN</td>\n",
       "      <td>NaN</td>\n",
       "      <td>NaN</td>\n",
       "      <td>NaN</td>\n",
       "      <td>NaN</td>\n",
       "      <td>NaN</td>\n",
       "      <td>{'estimator': LinearRegression()}</td>\n",
       "      <td>0.963707</td>\n",
       "      <td>0.965991</td>\n",
       "      <td>0.936107</td>\n",
       "      <td>0.966071</td>\n",
       "      <td>0.962872</td>\n",
       "      <td>0.958950</td>\n",
       "      <td>0.011490</td>\n",
       "      <td>29</td>\n",
       "    </tr>\n",
       "    <tr>\n",
       "      <th>1</th>\n",
       "      <td>0.041028</td>\n",
       "      <td>0.008502</td>\n",
       "      <td>0.007095</td>\n",
       "      <td>0.003785</td>\n",
       "      <td>DecisionTreeRegressor()</td>\n",
       "      <td>1</td>\n",
       "      <td>sqrt</td>\n",
       "      <td>NaN</td>\n",
       "      <td>NaN</td>\n",
       "      <td>NaN</td>\n",
       "      <td>NaN</td>\n",
       "      <td>{'estimator': DecisionTreeRegressor(), 'estima...</td>\n",
       "      <td>0.725630</td>\n",
       "      <td>0.725752</td>\n",
       "      <td>0.534320</td>\n",
       "      <td>0.725403</td>\n",
       "      <td>0.566627</td>\n",
       "      <td>0.655546</td>\n",
       "      <td>0.086398</td>\n",
       "      <td>107</td>\n",
       "    </tr>\n",
       "    <tr>\n",
       "      <th>2</th>\n",
       "      <td>0.029073</td>\n",
       "      <td>0.002484</td>\n",
       "      <td>0.005329</td>\n",
       "      <td>0.001100</td>\n",
       "      <td>DecisionTreeRegressor()</td>\n",
       "      <td>1</td>\n",
       "      <td>log2</td>\n",
       "      <td>NaN</td>\n",
       "      <td>NaN</td>\n",
       "      <td>NaN</td>\n",
       "      <td>NaN</td>\n",
       "      <td>{'estimator': DecisionTreeRegressor(), 'estima...</td>\n",
       "      <td>0.723909</td>\n",
       "      <td>0.725752</td>\n",
       "      <td>0.723870</td>\n",
       "      <td>0.723752</td>\n",
       "      <td>0.723944</td>\n",
       "      <td>0.724245</td>\n",
       "      <td>0.000756</td>\n",
       "      <td>106</td>\n",
       "    </tr>\n",
       "    <tr>\n",
       "      <th>3</th>\n",
       "      <td>0.035639</td>\n",
       "      <td>0.003446</td>\n",
       "      <td>0.006484</td>\n",
       "      <td>0.001686</td>\n",
       "      <td>DecisionTreeRegressor()</td>\n",
       "      <td>2</td>\n",
       "      <td>sqrt</td>\n",
       "      <td>NaN</td>\n",
       "      <td>NaN</td>\n",
       "      <td>NaN</td>\n",
       "      <td>NaN</td>\n",
       "      <td>{'estimator': DecisionTreeRegressor(), 'estima...</td>\n",
       "      <td>0.876379</td>\n",
       "      <td>0.878943</td>\n",
       "      <td>0.842938</td>\n",
       "      <td>0.822960</td>\n",
       "      <td>0.877745</td>\n",
       "      <td>0.859793</td>\n",
       "      <td>0.022825</td>\n",
       "      <td>80</td>\n",
       "    </tr>\n",
       "    <tr>\n",
       "      <th>4</th>\n",
       "      <td>0.037626</td>\n",
       "      <td>0.005303</td>\n",
       "      <td>0.005726</td>\n",
       "      <td>0.001803</td>\n",
       "      <td>DecisionTreeRegressor()</td>\n",
       "      <td>2</td>\n",
       "      <td>log2</td>\n",
       "      <td>NaN</td>\n",
       "      <td>NaN</td>\n",
       "      <td>NaN</td>\n",
       "      <td>NaN</td>\n",
       "      <td>{'estimator': DecisionTreeRegressor(), 'estima...</td>\n",
       "      <td>0.813851</td>\n",
       "      <td>0.727794</td>\n",
       "      <td>0.813480</td>\n",
       "      <td>0.839380</td>\n",
       "      <td>0.878050</td>\n",
       "      <td>0.814511</td>\n",
       "      <td>0.049350</td>\n",
       "      <td>81</td>\n",
       "    </tr>\n",
       "  </tbody>\n",
       "</table>\n",
       "</div>"
      ],
      "text/plain": [
       "   mean_fit_time  std_fit_time  mean_score_time  std_score_time  \\\n",
       "0       0.058584      0.014798         0.009811        0.005125   \n",
       "1       0.041028      0.008502         0.007095        0.003785   \n",
       "2       0.029073      0.002484         0.005329        0.001100   \n",
       "3       0.035639      0.003446         0.006484        0.001686   \n",
       "4       0.037626      0.005303         0.005726        0.001803   \n",
       "\n",
       "           param_estimator param_estimator__max_depth  \\\n",
       "0       LinearRegression()                        NaN   \n",
       "1  DecisionTreeRegressor()                          1   \n",
       "2  DecisionTreeRegressor()                          1   \n",
       "3  DecisionTreeRegressor()                          2   \n",
       "4  DecisionTreeRegressor()                          2   \n",
       "\n",
       "  param_estimator__max_features param_estimator__min_samples_leaf  \\\n",
       "0                           NaN                               NaN   \n",
       "1                          sqrt                               NaN   \n",
       "2                          log2                               NaN   \n",
       "3                          sqrt                               NaN   \n",
       "4                          log2                               NaN   \n",
       "\n",
       "  param_estimator__min_samples_split param_estimator__n_estimators  \\\n",
       "0                                NaN                           NaN   \n",
       "1                                NaN                           NaN   \n",
       "2                                NaN                           NaN   \n",
       "3                                NaN                           NaN   \n",
       "4                                NaN                           NaN   \n",
       "\n",
       "  param_estimator__n_neighbors  \\\n",
       "0                          NaN   \n",
       "1                          NaN   \n",
       "2                          NaN   \n",
       "3                          NaN   \n",
       "4                          NaN   \n",
       "\n",
       "                                              params  split0_test_score  \\\n",
       "0                  {'estimator': LinearRegression()}           0.963707   \n",
       "1  {'estimator': DecisionTreeRegressor(), 'estima...           0.725630   \n",
       "2  {'estimator': DecisionTreeRegressor(), 'estima...           0.723909   \n",
       "3  {'estimator': DecisionTreeRegressor(), 'estima...           0.876379   \n",
       "4  {'estimator': DecisionTreeRegressor(), 'estima...           0.813851   \n",
       "\n",
       "   split1_test_score  split2_test_score  split3_test_score  split4_test_score  \\\n",
       "0           0.965991           0.936107           0.966071           0.962872   \n",
       "1           0.725752           0.534320           0.725403           0.566627   \n",
       "2           0.725752           0.723870           0.723752           0.723944   \n",
       "3           0.878943           0.842938           0.822960           0.877745   \n",
       "4           0.727794           0.813480           0.839380           0.878050   \n",
       "\n",
       "   mean_test_score  std_test_score  rank_test_score  \n",
       "0         0.958950        0.011490               29  \n",
       "1         0.655546        0.086398              107  \n",
       "2         0.724245        0.000756              106  \n",
       "3         0.859793        0.022825               80  \n",
       "4         0.814511        0.049350               81  "
      ]
     },
     "execution_count": 38,
     "metadata": {},
     "output_type": "execute_result"
    }
   ],
   "source": [
    "pd.DataFrame(grid.cv_results_).head()"
   ]
  },
  {
   "cell_type": "code",
   "execution_count": 39,
   "id": "concrete-domestic",
   "metadata": {},
   "outputs": [
    {
     "name": "stderr",
     "output_type": "stream",
     "text": [
      "[Parallel(n_jobs=1)]: Using backend SequentialBackend with 1 concurrent workers.\n"
     ]
    },
    {
     "name": "stdout",
     "output_type": "stream",
     "text": [
      "[CV] END .................................................... total time=  32.8s\n"
     ]
    },
    {
     "name": "stderr",
     "output_type": "stream",
     "text": [
      "[Parallel(n_jobs=1)]: Done   1 out of   1 | elapsed:   32.8s remaining:    0.0s\n"
     ]
    },
    {
     "name": "stdout",
     "output_type": "stream",
     "text": [
      "[CV] END .................................................... total time=  36.0s\n",
      "[CV] END .................................................... total time=  36.3s\n",
      "[CV] END .................................................... total time=  34.8s\n",
      "[CV] END .................................................... total time=  35.7s\n",
      "[CV] END .................................................... total time=  35.0s\n",
      "[CV] END .................................................... total time=  38.6s\n",
      "[CV] END .................................................... total time=  45.3s\n",
      "[CV] END .................................................... total time=  37.8s\n",
      "[CV] END .................................................... total time=  36.8s\n"
     ]
    },
    {
     "name": "stderr",
     "output_type": "stream",
     "text": [
      "[Parallel(n_jobs=1)]: Done  10 out of  10 | elapsed:  6.2min finished\n"
     ]
    },
    {
     "data": {
      "text/plain": [
       "{'fit_time': array([32.54558444, 35.61497903, 36.02232003, 34.49067569, 35.35845923,\n",
       "        34.70017457, 38.16135931, 44.97799277, 37.44267201, 36.52488017]),\n",
       " 'score_time': array([0.29696822, 0.34637904, 0.29109311, 0.29086876, 0.29285645,\n",
       "        0.28945804, 0.4228704 , 0.31534529, 0.30936289, 0.31293988]),\n",
       " 'test_score': array([0.00883842, 0.01120921, 0.0085263 , 0.00797318, 0.00811973,\n",
       "        0.00800887, 0.00837439, 0.00799003, 0.00791031, 0.00938049])}"
      ]
     },
     "execution_count": 39,
     "metadata": {},
     "output_type": "execute_result"
    }
   ],
   "source": [
    "mse_scorer = make_scorer(mean_squared_error)\n",
    "cross_validate(estimator=RandomForestRegressor(max_depth=None,\n",
    "                        min_samples_split=5,min_samples_leaf = 1, n_estimators=300), \n",
    "               X=X, y=y, scoring=mse_scorer, cv=10, verbose = 2,  n_jobs= -1)"
   ]
  },
  {
   "cell_type": "code",
   "execution_count": 40,
   "id": "thorough-company",
   "metadata": {},
   "outputs": [
    {
     "data": {
      "text/plain": [
       "Pipeline(steps=[('estimator',\n",
       "                 RandomForestRegressor(min_samples_leaf=2, min_samples_split=3,\n",
       "                                       n_estimators=300))])"
      ]
     },
     "execution_count": 40,
     "metadata": {},
     "output_type": "execute_result"
    }
   ],
   "source": [
    "best_final = res.best_estimator_\n",
    "best_final"
   ]
  },
  {
   "cell_type": "code",
   "execution_count": 42,
   "id": "medieval-mortgage",
   "metadata": {},
   "outputs": [],
   "source": [
    "predictedY_train2 = best_final.predict(X)\n",
    "predictedY_test2 =  best_final.predict(X_test)"
   ]
  },
  {
   "cell_type": "code",
   "execution_count": 43,
   "id": "competitive-rabbit",
   "metadata": {},
   "outputs": [
    {
     "data": {
      "text/plain": [
       "(0.9976961342567132, 0.04868594297609504)"
      ]
     },
     "execution_count": 43,
     "metadata": {},
     "output_type": "execute_result"
    }
   ],
   "source": [
    "#To obtain different scores of the best model\n",
    "Rsquare=res.score(X,y)\n",
    "rmse=np.sqrt(mean_squared_error(y,predictedY_train2))\n",
    "\n",
    "Rsquare, rmse"
   ]
  },
  {
   "cell_type": "markdown",
   "id": "micro-serial",
   "metadata": {},
   "source": [
    "### Test data"
   ]
  },
  {
   "cell_type": "code",
   "execution_count": 44,
   "id": "mexican-machinery",
   "metadata": {},
   "outputs": [
    {
     "name": "stderr",
     "output_type": "stream",
     "text": [
      "[Parallel(n_jobs=1)]: Using backend SequentialBackend with 1 concurrent workers.\n"
     ]
    },
    {
     "name": "stdout",
     "output_type": "stream",
     "text": [
      "[CV] END .................................................... total time=   7.6s\n"
     ]
    },
    {
     "name": "stderr",
     "output_type": "stream",
     "text": [
      "[Parallel(n_jobs=1)]: Done   1 out of   1 | elapsed:    7.6s remaining:    0.0s\n"
     ]
    },
    {
     "name": "stdout",
     "output_type": "stream",
     "text": [
      "[CV] END .................................................... total time=   8.2s\n",
      "[CV] END .................................................... total time=   9.0s\n",
      "[CV] END .................................................... total time=   8.7s\n",
      "[CV] END .................................................... total time=   8.7s\n",
      "[CV] END .................................................... total time=   8.6s\n",
      "[CV] END .................................................... total time=   9.1s\n",
      "[CV] END .................................................... total time=   9.3s\n",
      "[CV] END .................................................... total time=   8.7s\n",
      "[CV] END .................................................... total time=   8.7s\n"
     ]
    },
    {
     "name": "stderr",
     "output_type": "stream",
     "text": [
      "[Parallel(n_jobs=1)]: Done  10 out of  10 | elapsed:  1.4min finished\n"
     ]
    },
    {
     "data": {
      "text/plain": [
       "{'fit_time': array([7.53459239, 8.15188384, 8.88584518, 8.66435122, 8.5968349 ,\n",
       "        8.52579927, 8.97603416, 9.20089889, 8.60252595, 8.62632799]),\n",
       " 'score_time': array([0.0611515 , 0.06975126, 0.07236314, 0.06952047, 0.07054424,\n",
       "        0.0709734 , 0.08596301, 0.06947756, 0.0693171 , 0.06966329]),\n",
       " 'test_score': array([0.00425602, 0.0031726 , 0.00437477, 0.00340344, 0.00334212,\n",
       "        0.00330179, 0.00402963, 0.00436526, 0.00358855, 0.00360696])}"
      ]
     },
     "execution_count": 44,
     "metadata": {},
     "output_type": "execute_result"
    }
   ],
   "source": [
    "mse_scorer = make_scorer(mean_squared_error)\n",
    "cross_validate(estimator=RandomForestRegressor(min_samples_leaf = 8, n_estimators=300), \n",
    "               X=X_test, y=predictedY_test2, scoring=mse_scorer, cv=10, verbose = 2)"
   ]
  },
  {
   "cell_type": "code",
   "execution_count": 46,
   "id": "authorized-plumbing",
   "metadata": {},
   "outputs": [],
   "source": [
    "comparing_test2 = pd.DataFrame(predictedY_test2, columns = [\"price\"])\n",
    "comparing_test2.index.name = 'id'"
   ]
  },
  {
   "cell_type": "code",
   "execution_count": null,
   "id": "continuous-weather",
   "metadata": {},
   "outputs": [],
   "source": [
    "comparing_test2.to_csv(\"Submission_todas.csv\", header = True)"
   ]
  },
  {
   "cell_type": "code",
   "execution_count": null,
   "id": "useful-elimination",
   "metadata": {},
   "outputs": [],
   "source": []
  }
 ],
 "metadata": {
  "kernelspec": {
   "display_name": "Python 3",
   "language": "python",
   "name": "python3"
  },
  "language_info": {
   "codemirror_mode": {
    "name": "ipython",
    "version": 3
   },
   "file_extension": ".py",
   "mimetype": "text/x-python",
   "name": "python",
   "nbconvert_exporter": "python",
   "pygments_lexer": "ipython3",
   "version": "3.8.5"
  },
  "toc": {
   "base_numbering": 1,
   "nav_menu": {},
   "number_sections": true,
   "sideBar": true,
   "skip_h1_title": false,
   "title_cell": "Table of Contents",
   "title_sidebar": "Contents",
   "toc_cell": false,
   "toc_position": {},
   "toc_section_display": true,
   "toc_window_display": false
  },
  "varInspector": {
   "cols": {
    "lenName": 16,
    "lenType": 16,
    "lenVar": 40
   },
   "kernels_config": {
    "python": {
     "delete_cmd_postfix": "",
     "delete_cmd_prefix": "del ",
     "library": "var_list.py",
     "varRefreshCmd": "print(var_dic_list())"
    },
    "r": {
     "delete_cmd_postfix": ") ",
     "delete_cmd_prefix": "rm(",
     "library": "var_list.r",
     "varRefreshCmd": "cat(var_dic_list()) "
    }
   },
   "types_to_exclude": [
    "module",
    "function",
    "builtin_function_or_method",
    "instance",
    "_Feature"
   ],
   "window_display": false
  }
 },
 "nbformat": 4,
 "nbformat_minor": 5
}
